{
 "cells": [
  {
   "cell_type": "markdown",
   "metadata": {},
   "source": [
    "## Project 1 - Neural Network From Scratch"
   ]
  },
  {
   "cell_type": "markdown",
   "metadata": {},
   "source": [
    "### Setup"
   ]
  },
  {
   "cell_type": "code",
   "execution_count": 484,
   "metadata": {},
   "outputs": [],
   "source": [
    "import numpy as np\n",
    "import matplotlib.pyplot as plt\n",
    "from matplotlib.pyplot import figure\n"
   ]
  },
  {
   "cell_type": "markdown",
   "metadata": {},
   "source": [
    "### Code for Networks"
   ]
  },
  {
   "cell_type": "markdown",
   "metadata": {},
   "source": [
    "#### Generating Training Set"
   ]
  },
  {
   "cell_type": "code",
   "execution_count": 455,
   "metadata": {},
   "outputs": [],
   "source": [
    "def generate_training_set(num):\n",
    "    np.random.seed(7)\n",
    "    training_set = []\n",
    "    for i in range(num):\n",
    "       x = np.random.rand()\n",
    "       y = 1 - x\n",
    "       z = x * y\n",
    "\n",
    "       training_set.append([x,y,z])  \n",
    "\n",
    "    return training_set\n",
    "\n",
    "\n"
   ]
  },
  {
   "cell_type": "markdown",
   "metadata": {},
   "source": [
    "#### Init Params"
   ]
  },
  {
   "cell_type": "code",
   "execution_count": 456,
   "metadata": {},
   "outputs": [],
   "source": [
    "def init_params(layer_dims):\n",
    "    np.random.seed(3)\n",
    "    params = {}\n",
    "    L = len(layer_dims)\n",
    "    \n",
    "    for l in range(1, L):\n",
    "        params['W'+str(l)] = np.random.randn(layer_dims[l], layer_dims[l-1])*0.01\n",
    "        params['b'+str(l)] = np.zeros((layer_dims[l], 1))\n",
    "        \n",
    "    return params"
   ]
  },
  {
   "cell_type": "markdown",
   "metadata": {},
   "source": [
    "#### Activation Function"
   ]
  },
  {
   "cell_type": "code",
   "execution_count": 457,
   "metadata": {},
   "outputs": [],
   "source": [
    "# Z (linear hypothesis) - Z = W*X + b , \n",
    "# W - weight matrix, b- bias vector, X- Input\n",
    "\n",
    "def sigmoid(Z):\n",
    "    A = 1/(1+np.exp(np.dot(-1, Z)))\n",
    "    cache = (Z)\n",
    "    \n",
    "    return A, cache\n"
   ]
  },
  {
   "cell_type": "markdown",
   "metadata": {},
   "source": [
    "#### Feed Forward"
   ]
  },
  {
   "cell_type": "code",
   "execution_count": 459,
   "metadata": {},
   "outputs": [],
   "source": [
    "def feed_forward(X, params):\n",
    "    \n",
    "    A = X # input to first layer i.e. training data\n",
    "    caches = []\n",
    "    L = len(params)//2\n",
    "    for l in range(1, L+1):\n",
    "        A_prev = A\n",
    "        \n",
    "        # Linear Hypothesis\n",
    "        Z = np.dot(params['W'+str(l)], A_prev) + params['b'+str(l)] \n",
    "        \n",
    "        # Storing the linear cache\n",
    "        linear_cache = (A_prev, params['W'+str(l)], params['b'+str(l)]) \n",
    "        \n",
    "        # Applying sigmoid on linear hypothesis\n",
    "        A, activation_cache = sigmoid(Z) \n",
    "        \n",
    "         # storing the both linear and activation cache\n",
    "        cache = (linear_cache, activation_cache)\n",
    "        caches.append(cache)\n",
    "    \n",
    "    return A, caches"
   ]
  },
  {
   "cell_type": "markdown",
   "metadata": {},
   "source": [
    "#### Cost Funtion"
   ]
  },
  {
   "cell_type": "code",
   "execution_count": 460,
   "metadata": {},
   "outputs": [],
   "source": [
    "def cost_function(A, Y):\n",
    "    m = Y.shape[1]\n",
    "    \n",
    "    # cost = (-1/m)*(np.dot(np.log(A), Y.T) + np.dot(np.log(1-A), 1-Y.T)) \n",
    "    cost = (1/2) * np.sum(np.square(np.subtract(A,Y)))\n",
    "    \n",
    "    return cost"
   ]
  },
  {
   "cell_type": "markdown",
   "metadata": {},
   "source": [
    "#### Back Propagation"
   ]
  },
  {
   "cell_type": "code",
   "execution_count": 461,
   "metadata": {},
   "outputs": [],
   "source": [
    "def one_layer_backward(dA, cache):\n",
    "    linear_cache, activation_cache = cache\n",
    "    \n",
    "    Z = activation_cache\n",
    "    dZ = dA*sigmoid(Z)[0]*(1-sigmoid(Z)[0]) # The derivative of the sigmoid function\n",
    "    \n",
    "    A_prev, W, b = linear_cache\n",
    "    m = A_prev.shape[1]\n",
    "    \n",
    "    dW = (1/m)*np.dot(dZ, A_prev.T)\n",
    "    db = (1/m)*np.sum(dZ, axis=1, keepdims=True)\n",
    "    dA_prev = np.dot(W.T, dZ)\n",
    "    \n",
    "    return dA_prev, dW, db"
   ]
  },
  {
   "cell_type": "code",
   "execution_count": 462,
   "metadata": {},
   "outputs": [],
   "source": [
    "def backprop(AL, Y, caches):\n",
    "    grads = {}\n",
    "    L = len(caches)\n",
    "    m = AL.shape[1]\n",
    "    Y = Y.reshape(AL.shape)\n",
    "    \n",
    "    dAL = -(np.divide(Y, AL) - np.divide(1-Y, 1-AL))\n",
    "    # print(dAL, len(caches))\n",
    "    \n",
    "    current_cache = caches[L-1]\n",
    "    grads['dA'+str(L-1)], grads['dW'+str(L)], grads['db'+str(L)] = one_layer_backward(dAL, current_cache)\n",
    "    \n",
    "    for l in reversed(range(L-1)):\n",
    "        \n",
    "        current_cache = caches[l]\n",
    "        dA_prev_temp, dW_temp, db_temp = one_layer_backward(grads[\"dA\" + str(l+1)], current_cache)\n",
    "        grads[\"dA\" + str(l)] = dA_prev_temp\n",
    "        grads[\"dW\" + str(l + 1)] = dW_temp\n",
    "        grads[\"db\" + str(l + 1)] = db_temp\n",
    "\n",
    "        # print(grads)\n",
    "        \n",
    "    return grads"
   ]
  },
  {
   "cell_type": "markdown",
   "metadata": {},
   "source": [
    "#### Update Parameters"
   ]
  },
  {
   "cell_type": "code",
   "execution_count": 463,
   "metadata": {},
   "outputs": [],
   "source": [
    "def update_parameters(parameters, grads, learning_rate):\n",
    "    L = len(parameters) // 2\n",
    "    \n",
    "    for l in range(L):\n",
    "        parameters['W'+str(l+1)] = parameters['W'+str(l+1)] -learning_rate*grads['dW'+str(l+1)]\n",
    "        parameters['b'+str(l+1)] = parameters['b'+str(l+1)] -  learning_rate*grads['db'+str(l+1)]\n",
    "        \n",
    "    return parameters"
   ]
  },
  {
   "cell_type": "markdown",
   "metadata": {},
   "source": [
    "#### Train Neural Network"
   ]
  },
  {
   "cell_type": "code",
   "execution_count": 464,
   "metadata": {},
   "outputs": [],
   "source": [
    "def train(X, Y, layer_dims, epochs, lr):\n",
    "    params = init_params(layer_dims)\n",
    "    cost_history = []\n",
    "    \n",
    "    for i in range(epochs):\n",
    "        Y_hat, caches = feed_forward(X, params)\n",
    "        cost = cost_function(Y_hat, Y)\n",
    "        cost_history.append(cost)\n",
    "        grads = backprop(Y_hat, Y, caches)        \n",
    "        params = update_parameters(params, grads, lr)\n",
    "        \n",
    "        \n",
    "    return params, cost_history\n",
    "    # return params, Y_hat, caches, cost, grads"
   ]
  },
  {
   "cell_type": "markdown",
   "metadata": {},
   "source": [
    "#### Root Mean Squared Error"
   ]
  },
  {
   "cell_type": "code",
   "execution_count": 538,
   "metadata": {},
   "outputs": [],
   "source": [
    "def RMSE(Y_hat, Y):\n",
    "\n",
    "    # print((1/len(Y)) * np.sum(np.square(np.subtract(Y_hat,Y))))\n",
    "\n",
    "    error = np.sqrt((1/len(Y)) * np.sum(np.square(np.subtract(Y_hat,Y))))\n",
    "\n",
    "    return error"
   ]
  },
  {
   "cell_type": "markdown",
   "metadata": {},
   "source": [
    "### Building Networks"
   ]
  },
  {
   "cell_type": "markdown",
   "metadata": {},
   "source": [
    "#### First model\n",
    "<p> 2 input, 2 hidden layers with 100 neurons each, 1 output for a training set size of 100, 500 and 1000 with a 80/20 split</p>"
   ]
  },
  {
   "cell_type": "code",
   "execution_count": 557,
   "metadata": {},
   "outputs": [],
   "source": [
    "training_set_1 = np.array(generate_training_set(100))\n",
    "training_set_2 = np.array(generate_training_set(500))\n",
    "training_set_3 = np.array(generate_training_set(1000))"
   ]
  },
  {
   "cell_type": "code",
   "execution_count": 558,
   "metadata": {},
   "outputs": [
    {
     "name": "stdout",
     "output_type": "stream",
     "text": [
      "100\n",
      "500\n",
      "1000\n"
     ]
    }
   ],
   "source": [
    "print(len(training_set_1))\n",
    "print(len(training_set_2))\n",
    "print(len(training_set_3))"
   ]
  },
  {
   "cell_type": "code",
   "execution_count": 559,
   "metadata": {},
   "outputs": [
    {
     "name": "stdout",
     "output_type": "stream",
     "text": [
      "X1 : 80\n",
      "X2 : 400\n",
      "X3 : 800\n"
     ]
    }
   ],
   "source": [
    "X1 = training_set_1[0:80 , 0:2]\n",
    "print('X1 :',len(X1))\n",
    "\n",
    "X2 = training_set_2[0:400 , 0:2]\n",
    "print('X2 :',len(X2))\n",
    "\n",
    "X3 = training_set_3[0:800 , 0:2]\n",
    "print('X3 :',len(X3))"
   ]
  },
  {
   "cell_type": "code",
   "execution_count": 560,
   "metadata": {},
   "outputs": [
    {
     "name": "stdout",
     "output_type": "stream",
     "text": [
      "Y1 : 80\n",
      "Y2 : 400\n",
      "Y3 : 800\n"
     ]
    }
   ],
   "source": [
    "Y1 = training_set_1[0:80 , 2:3]\n",
    "print('Y1 :',len(Y1))\n",
    "\n",
    "Y2 = training_set_2[0:400 , 2:3]\n",
    "print('Y2 :',len(Y2))\n",
    "\n",
    "Y3 = training_set_3[0:800 , 2:3]\n",
    "print('Y3 :',len(Y3))"
   ]
  },
  {
   "cell_type": "code",
   "execution_count": 562,
   "metadata": {},
   "outputs": [],
   "source": [
    "layer_dims_1 = [2,100,100,1]"
   ]
  },
  {
   "cell_type": "code",
   "execution_count": 563,
   "metadata": {},
   "outputs": [],
   "source": [
    "params1, cost_history1 = train(X1.T, Y1.T, layer_dims_1, 200, 0.01)\n",
    "params2, cost_history2 = train(X2.T, Y2.T, layer_dims_1, 200, 0.01)\n",
    "params3, cost_history3 = train(X3.T, Y3.T, layer_dims_1, 200, 0.01)"
   ]
  },
  {
   "cell_type": "markdown",
   "metadata": {},
   "source": [
    "##### Training Set 1"
   ]
  },
  {
   "cell_type": "code",
   "execution_count": 564,
   "metadata": {},
   "outputs": [
    {
     "data": {
      "image/png": "[encoded data removed]",
      "text/plain": [
       "<Figure size 1280x720 with 1 Axes>"
      ]
     },
     "metadata": {
      "needs_background": "light"
     },
     "output_type": "display_data"
    }
   ],
   "source": [
    "# Cost History Graph\n",
    "x = []\n",
    "for i in range(len(cost_history1)):\n",
    "    x.append(i + 1)\n",
    "x = np.array(x)\n",
    "\n",
    "y = np.array(cost_history1)\n",
    "figure(figsize=(16, 9), dpi=80)\n",
    "\n",
    "\n",
    "\n",
    "plt.plot(x, y)\n",
    "plt.xlabel(\"epoch\")\n",
    "plt.ylabel(\"cost history\")\n",
    "plt.title(\"Cost over epoch\")\n",
    "plt.show()"
   ]
  },
  {
   "cell_type": "code",
   "execution_count": 565,
   "metadata": {},
   "outputs": [
    {
     "name": "stdout",
     "output_type": "stream",
     "text": [
      "X1_val : 20\n",
      "Y1_val : 20\n",
      "Root Mean Squared Error : 0.2824088467500546\n"
     ]
    }
   ],
   "source": [
    "X1_val = training_set_1[80:100 , 0:2]\n",
    "print('X1_val :',len(X1_val))\n",
    "\n",
    "Y1_val = training_set_1[80:100 , 2:3]\n",
    "print('Y1_val :',len(Y1_val))\n",
    "\n",
    "Y_hat1, caches1 = feed_forward(X1_val.T, params1)\n",
    "\n",
    "error = RMSE(Y_hat1, Y1_val)\n",
    "\n",
    "print('Root Mean Squared Error :', error)"
   ]
  },
  {
   "cell_type": "markdown",
   "metadata": {},
   "source": [
    "##### Training Set 2"
   ]
  },
  {
   "cell_type": "code",
   "execution_count": 566,
   "metadata": {},
   "outputs": [
    {
     "data": {
      "image/png": "[encoded data removed]",
      "text/plain": [
       "<Figure size 1280x720 with 1 Axes>"
      ]
     },
     "metadata": {
      "needs_background": "light"
     },
     "output_type": "display_data"
    }
   ],
   "source": [
    "# Cost History Graph\n",
    "x = []\n",
    "for i in range(len(cost_history2)):\n",
    "    x.append(i + 1)\n",
    "x = np.array(x)\n",
    "\n",
    "y = np.array(cost_history2)\n",
    "figure(figsize=(16, 9), dpi=80)\n",
    "\n",
    "\n",
    "\n",
    "plt.plot(x, y)\n",
    "plt.xlabel(\"epoch\")\n",
    "plt.ylabel(\"cost history\")\n",
    "plt.title(\"Cost over epoch\")\n",
    "plt.show()"
   ]
  },
  {
   "cell_type": "code",
   "execution_count": 567,
   "metadata": {},
   "outputs": [
    {
     "name": "stdout",
     "output_type": "stream",
     "text": [
      "X2_val : 100\n",
      "Y2_val : 100\n",
      "Root Mean Squared Error : 0.7559463174055078\n"
     ]
    }
   ],
   "source": [
    "X2_val = training_set_2[400:500 , 0:2]\n",
    "print('X2_val :',len(X2_val))\n",
    "\n",
    "Y2_val = training_set_2[400:500 , 2:3]\n",
    "print('Y2_val :',len(Y2_val))\n",
    "\n",
    "Y_hat2, caches2 = feed_forward(X2_val.T, params2)\n",
    "\n",
    "error = RMSE(Y_hat2, Y2_val)\n",
    "\n",
    "print('Root Mean Squared Error :', error)"
   ]
  },
  {
   "cell_type": "markdown",
   "metadata": {},
   "source": [
    "##### Training Set 3"
   ]
  },
  {
   "cell_type": "code",
   "execution_count": 568,
   "metadata": {},
   "outputs": [
    {
     "data": {
      "image/png": "[encoded data removed]",
      "text/plain": [
       "<Figure size 1280x720 with 1 Axes>"
      ]
     },
     "metadata": {
      "needs_background": "light"
     },
     "output_type": "display_data"
    }
   ],
   "source": [
    "# Cost History Graph\n",
    "x = []\n",
    "for i in range(len(cost_history3)):\n",
    "    x.append(i + 1)\n",
    "x = np.array(x)\n",
    "\n",
    "y = np.array(cost_history3)\n",
    "figure(figsize=(16, 9), dpi=80)\n",
    "\n",
    "\n",
    "\n",
    "plt.plot(x, y)\n",
    "plt.xlabel(\"epoch\")\n",
    "plt.ylabel(\"cost history\")\n",
    "plt.title(\"Cost over epoch\")\n",
    "plt.show()"
   ]
  },
  {
   "cell_type": "code",
   "execution_count": 569,
   "metadata": {},
   "outputs": [
    {
     "name": "stdout",
     "output_type": "stream",
     "text": [
      "X3_val : 200\n",
      "Y3_val : 200\n",
      "Root Mean Squared Error : 1.0287131272638848\n"
     ]
    }
   ],
   "source": [
    "X3_val = training_set_3[800:1000 , 0:2]\n",
    "print('X3_val :',len(X3_val))\n",
    "\n",
    "Y3_val = training_set_3[800:1000 , 2:3]\n",
    "print('Y3_val :',len(Y3_val))\n",
    "\n",
    "Y_hat3, caches3 = feed_forward(X3_val.T, params3)\n",
    "\n",
    "error = RMSE(Y_hat3, Y3_val)\n",
    "\n",
    "print('Root Mean Squared Error :', error)"
   ]
  },
  {
   "cell_type": "markdown",
   "metadata": {},
   "source": [
    "#### Second model\n",
    "<p> 2 input, 2 hidden layers with 100 neurons each, 1 output for a training set size of 500 with a 80/20 split but changing epoch from 100, 500 and 1000</p>"
   ]
  },
  {
   "cell_type": "code",
   "execution_count": 570,
   "metadata": {},
   "outputs": [
    {
     "name": "stdout",
     "output_type": "stream",
     "text": [
      "500\n"
     ]
    }
   ],
   "source": [
    "training_set_4 = np.array(generate_training_set(500))\n",
    "print(len(training_set_4))"
   ]
  },
  {
   "cell_type": "code",
   "execution_count": 571,
   "metadata": {},
   "outputs": [
    {
     "name": "stdout",
     "output_type": "stream",
     "text": [
      "X4 : 400\n",
      "X4_val : 100\n"
     ]
    }
   ],
   "source": [
    "X4 = training_set_4[0:400 , 0:2]\n",
    "print('X4 :',len(X4))\n",
    "\n",
    "X4_val = training_set_4[400:500 , 0:2]\n",
    "print('X4_val :',len(X4_val))"
   ]
  },
  {
   "cell_type": "code",
   "execution_count": 572,
   "metadata": {},
   "outputs": [
    {
     "name": "stdout",
     "output_type": "stream",
     "text": [
      "Y4 : 400\n",
      "Y4_val : 100\n"
     ]
    }
   ],
   "source": [
    "Y4 = training_set_4[0:400 , 2:3]\n",
    "print('Y4 :',len(Y4))\n",
    "\n",
    "Y4_val = training_set_4[400:500 , 2:3]\n",
    "print('Y4_val :',len(Y4_val))"
   ]
  },
  {
   "cell_type": "code",
   "execution_count": 573,
   "metadata": {},
   "outputs": [],
   "source": [
    "layer_dims_2 = [2,100,100,1]"
   ]
  },
  {
   "cell_type": "code",
   "execution_count": 574,
   "metadata": {},
   "outputs": [],
   "source": [
    "params4, cost_history4 = train(X4.T, Y4.T, layer_dims_1, 100, 0.01)\n",
    "params5, cost_history5 = train(X4.T, Y4.T, layer_dims_1, 500, 0.01)\n",
    "params6, cost_history6 = train(X4.T, Y4.T, layer_dims_1, 1000, 0.01)"
   ]
  },
  {
   "cell_type": "markdown",
   "metadata": {},
   "source": [
    "##### Set 1"
   ]
  },
  {
   "cell_type": "code",
   "execution_count": 585,
   "metadata": {},
   "outputs": [
    {
     "data": {
      "image/png": "[encoded data removed]",
      "text/plain": [
       "<Figure size 1280x720 with 1 Axes>"
      ]
     },
     "metadata": {
      "needs_background": "light"
     },
     "output_type": "display_data"
    }
   ],
   "source": [
    "# Cost History Graph\n",
    "x = []\n",
    "for i in range(len(cost_history4)):\n",
    "    x.append(i + 1)\n",
    "x = np.array(x)\n",
    "\n",
    "y = np.array(cost_history4)\n",
    "figure(figsize=(16, 9), dpi=80)\n",
    "\n",
    "\n",
    "\n",
    "plt.plot(x, y)\n",
    "plt.xlabel(\"epoch\")\n",
    "plt.ylabel(\"cost history\")\n",
    "plt.title(\"Cost over epoch\")\n",
    "plt.show()"
   ]
  },
  {
   "cell_type": "code",
   "execution_count": 586,
   "metadata": {},
   "outputs": [
    {
     "name": "stdout",
     "output_type": "stream",
     "text": [
      "Root Mean Squared Error : 0.7578816561948457\n"
     ]
    }
   ],
   "source": [
    "Y_hat4, caches4 = feed_forward(X4_val.T, params4)\n",
    "\n",
    "error = RMSE(Y_hat4, Y4_val)\n",
    "\n",
    "print('Root Mean Squared Error :', error)"
   ]
  },
  {
   "cell_type": "markdown",
   "metadata": {},
   "source": [
    "##### Set 2"
   ]
  },
  {
   "cell_type": "code",
   "execution_count": 583,
   "metadata": {},
   "outputs": [
    {
     "data": {
      "image/png": "[encoded data removed]",
      "text/plain": [
       "<Figure size 1280x720 with 1 Axes>"
      ]
     },
     "metadata": {
      "needs_background": "light"
     },
     "output_type": "display_data"
    }
   ],
   "source": [
    "# Cost History Graph\n",
    "x = []\n",
    "for i in range(len(cost_history5)):\n",
    "    x.append(i + 1)\n",
    "x = np.array(x)\n",
    "\n",
    "y = np.array(cost_history5)\n",
    "figure(figsize=(16, 9), dpi=80)\n",
    "\n",
    "\n",
    "\n",
    "plt.plot(x, y)\n",
    "plt.xlabel(\"epoch\")\n",
    "plt.ylabel(\"cost history\")\n",
    "plt.title(\"Cost over epoch\")\n",
    "plt.show()  "
   ]
  },
  {
   "cell_type": "code",
   "execution_count": 584,
   "metadata": {},
   "outputs": [
    {
     "name": "stdout",
     "output_type": "stream",
     "text": [
      "Root Mean Squared Error : 0.7559205606503833\n"
     ]
    }
   ],
   "source": [
    "Y_hat5, caches5 = feed_forward(X4_val.T, params5)\n",
    "\n",
    "error = RMSE(Y_hat5, Y4_val)\n",
    "\n",
    "print('Root Mean Squared Error :', error)"
   ]
  },
  {
   "cell_type": "markdown",
   "metadata": {},
   "source": [
    "##### Set 3"
   ]
  },
  {
   "cell_type": "code",
   "execution_count": 581,
   "metadata": {},
   "outputs": [
    {
     "data": {
      "image/png": "[encoded data removed]",
      "text/plain": [
       "<Figure size 1280x720 with 1 Axes>"
      ]
     },
     "metadata": {
      "needs_background": "light"
     },
     "output_type": "display_data"
    }
   ],
   "source": [
    "# Cost History Graph\n",
    "x = []\n",
    "for i in range(len(cost_history6)):\n",
    "    x.append(i + 1)\n",
    "x = np.array(x)\n",
    "\n",
    "y = np.array(cost_history6)\n",
    "figure(figsize=(16, 9), dpi=80)\n",
    "\n",
    "\n",
    "\n",
    "plt.plot(x, y)\n",
    "plt.xlabel(\"epoch\")\n",
    "plt.ylabel(\"cost history\")\n",
    "plt.title(\"Cost over epoch\")\n",
    "plt.show()"
   ]
  },
  {
   "cell_type": "code",
   "execution_count": 582,
   "metadata": {},
   "outputs": [
    {
     "name": "stdout",
     "output_type": "stream",
     "text": [
      "Root Mean Squared Error : 0.7559205602405676\n"
     ]
    }
   ],
   "source": [
    "Y_hat6, caches6 = feed_forward(X4_val.T, params6)\n",
    "\n",
    "error = RMSE(Y_hat6, Y4_val)\n",
    "\n",
    "print('Root Mean Squared Error :', error)"
   ]
  }
 ],
 "metadata": {
  "interpreter": {
   "hash": "b295c30d0c067a9418a4b067b0cfef7f3b1fb611fd6e026430322d33d3e99eef"
  },
  "kernelspec": {
   "display_name": "Python 3.10.2 ('deep_learning_venv': venv)",
   "language": "python",
   "name": "python3"
  },
  "language_info": {
   "codemirror_mode": {
    "name": "ipython",
    "version": 3
   },
   "file_extension": ".py",
   "mimetype": "text/x-python",
   "name": "python",
   "nbconvert_exporter": "python",
   "pygments_lexer": "ipython3",
   "version": "3.10.2"
  },
  "orig_nbformat": 4
 },
 "nbformat": 4,
 "nbformat_minor": 2
}
