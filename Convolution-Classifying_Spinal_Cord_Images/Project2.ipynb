{
 "cells": [
  {
   "cell_type": "markdown",
   "metadata": {},
   "source": [
    "## Project 2 - Classifying Spinal Cord Images based on Orientation"
   ]
  },
  {
   "cell_type": "markdown",
   "metadata": {},
   "source": [
    "### Setup"
   ]
  },
  {
   "cell_type": "code",
   "execution_count": 1,
   "metadata": {},
   "outputs": [],
   "source": [
    "import numpy as np\n",
    "import pandas as pd\n",
    "\n",
    "import skimage\n",
    "from skimage.io import imread\n",
    "\n",
    "import matplotlib.pyplot as plt\n",
    "from matplotlib.pyplot import figure\n",
    "\n",
    "import tensorflow as tf\n",
    "from tensorflow import keras\n",
    "from tensorflow.keras import layers\n",
    "\n",
    "import os\n"
   ]
  },
  {
   "cell_type": "markdown",
   "metadata": {},
   "source": [
    "### Getting Training and Testing Data"
   ]
  },
  {
   "cell_type": "code",
   "execution_count": 2,
   "metadata": {},
   "outputs": [],
   "source": [
    "#Giving Location\n",
    "train_location = '../../P2/train/'\n",
    "test_location = '../../P2/test/'"
   ]
  },
  {
   "cell_type": "code",
   "execution_count": 3,
   "metadata": {},
   "outputs": [],
   "source": [
    "# Defining a train and test dict\n",
    "train = {\n",
    "    'name':[],\n",
    "    'data':[],\n",
    "    'orientation':[]\n",
    "}\n",
    "\n",
    "test = {\n",
    "    'name':[],\n",
    "    'data':[]\n",
    "}"
   ]
  },
  {
   "cell_type": "markdown",
   "metadata": {},
   "source": [
    "#### Train"
   ]
  },
  {
   "cell_type": "code",
   "execution_count": 4,
   "metadata": {},
   "outputs": [
    {
     "data": {
      "text/plain": [
       "['0', '1', '2', '3']"
      ]
     },
     "execution_count": 4,
     "metadata": {},
     "output_type": "execute_result"
    }
   ],
   "source": [
    "# Getting all the orientation\n",
    "orientations = []\n",
    "base = train_location\n",
    "# print (base)\n",
    "with os.scandir(base) as entries:\n",
    "    # print (entries)\n",
    "    for entry in entries:\n",
    "        if(entry.is_file() == False):\n",
    "            orientations.append(entry.name)\n",
    "orientations"
   ]
  },
  {
   "cell_type": "code",
   "execution_count": 5,
   "metadata": {},
   "outputs": [],
   "source": [
    "# Loading training images\n",
    "base = train_location\n",
    "for orientation in orientations:\n",
    "    path = base + orientation\n",
    "    # print (path)\n",
    "    with os.scandir(path) as entries:\n",
    "        # print (entries)\n",
    "        for entry in entries:\n",
    "            if(entry.is_file()):\n",
    "                train['name'].append(int(str(entry.name).removesuffix('.png')))\n",
    "                train['orientation'].append(int(orientation))\n",
    "                image_location = path + '/' + str(entry.name)\n",
    "                # print(image_location)\n",
    "                train['data'].append(imread(image_location).tolist())"
   ]
  },
  {
   "cell_type": "code",
   "execution_count": 6,
   "metadata": {},
   "outputs": [
    {
     "data": {
      "text/plain": [
       "16000"
      ]
     },
     "execution_count": 6,
     "metadata": {},
     "output_type": "execute_result"
    }
   ],
   "source": [
    "# Length Check\n",
    "len(train['data'])"
   ]
  },
  {
   "cell_type": "code",
   "execution_count": 7,
   "metadata": {},
   "outputs": [
    {
     "data": {
      "text/html": [
       "<div>\n",
       "<style scoped>\n",
       "    .dataframe tbody tr th:only-of-type {\n",
       "        vertical-align: middle;\n",
       "    }\n",
       "\n",
       "    .dataframe tbody tr th {\n",
       "        vertical-align: top;\n",
       "    }\n",
       "\n",
       "    .dataframe thead th {\n",
       "        text-align: right;\n",
       "    }\n",
       "</style>\n",
       "<table border=\"1\" class=\"dataframe\">\n",
       "  <thead>\n",
       "    <tr style=\"text-align: right;\">\n",
       "      <th></th>\n",
       "      <th>data</th>\n",
       "      <th>orientation</th>\n",
       "    </tr>\n",
       "    <tr>\n",
       "      <th>name</th>\n",
       "      <th></th>\n",
       "      <th></th>\n",
       "    </tr>\n",
       "  </thead>\n",
       "  <tbody>\n",
       "    <tr>\n",
       "      <th>100002</th>\n",
       "      <td>[[0, 0, 0, 0, 0, 0, 0, 0, 0, 0, 0, 0, 0, 0, 0,...</td>\n",
       "      <td>1</td>\n",
       "    </tr>\n",
       "    <tr>\n",
       "      <th>100003</th>\n",
       "      <td>[[0, 0, 0, 0, 0, 0, 0, 0, 0, 0, 0, 0, 0, 0, 0,...</td>\n",
       "      <td>1</td>\n",
       "    </tr>\n",
       "    <tr>\n",
       "      <th>100004</th>\n",
       "      <td>[[14, 14, 14, 14, 13, 13, 13, 14, 14, 14, 14, ...</td>\n",
       "      <td>2</td>\n",
       "    </tr>\n",
       "    <tr>\n",
       "      <th>100005</th>\n",
       "      <td>[[7, 7, 7, 7, 7, 7, 7, 7, 7, 7, 7, 8, 8, 8, 12...</td>\n",
       "      <td>3</td>\n",
       "    </tr>\n",
       "    <tr>\n",
       "      <th>100006</th>\n",
       "      <td>[[0, 0, 0, 0, 0, 0, 0, 0, 0, 0, 0, 0, 0, 0, 0,...</td>\n",
       "      <td>3</td>\n",
       "    </tr>\n",
       "  </tbody>\n",
       "</table>\n",
       "</div>"
      ],
      "text/plain": [
       "                                                     data  orientation\n",
       "name                                                                  \n",
       "100002  [[0, 0, 0, 0, 0, 0, 0, 0, 0, 0, 0, 0, 0, 0, 0,...            1\n",
       "100003  [[0, 0, 0, 0, 0, 0, 0, 0, 0, 0, 0, 0, 0, 0, 0,...            1\n",
       "100004  [[14, 14, 14, 14, 13, 13, 13, 14, 14, 14, 14, ...            2\n",
       "100005  [[7, 7, 7, 7, 7, 7, 7, 7, 7, 7, 7, 8, 8, 8, 12...            3\n",
       "100006  [[0, 0, 0, 0, 0, 0, 0, 0, 0, 0, 0, 0, 0, 0, 0,...            3"
      ]
     },
     "execution_count": 7,
     "metadata": {},
     "output_type": "execute_result"
    }
   ],
   "source": [
    "# Putting the data in dataframe and sorting based on name because the orientaions are random when ordered by name\n",
    "train_df = pd.DataFrame(train)\n",
    "train_df = train_df.set_index('name')\n",
    "train_df.sort_values(by=['name'], inplace=True)\n",
    "train_df.head()"
   ]
  },
  {
   "cell_type": "code",
   "execution_count": 8,
   "metadata": {},
   "outputs": [],
   "source": [
    "x_train = []\n",
    "\n",
    "for i,r in train_df.iterrows():\n",
    "    x_train.append(r['data'])\n"
   ]
  },
  {
   "cell_type": "code",
   "execution_count": 9,
   "metadata": {},
   "outputs": [],
   "source": [
    "# final training data\n",
    "x_train = np.array(x_train)"
   ]
  },
  {
   "cell_type": "code",
   "execution_count": 10,
   "metadata": {},
   "outputs": [
    {
     "data": {
      "text/plain": [
       "(16000, 224, 224)"
      ]
     },
     "execution_count": 10,
     "metadata": {},
     "output_type": "execute_result"
    }
   ],
   "source": [
    "# Dimension Check\n",
    "x_train.shape"
   ]
  },
  {
   "cell_type": "code",
   "execution_count": 11,
   "metadata": {},
   "outputs": [],
   "source": [
    "# Make all images to have the shape (224, 224, 1)\n",
    "x_train = np.expand_dims(x_train, -1)"
   ]
  },
  {
   "cell_type": "code",
   "execution_count": 12,
   "metadata": {},
   "outputs": [
    {
     "data": {
      "text/plain": [
       "(16000, 224, 224, 1)"
      ]
     },
     "execution_count": 12,
     "metadata": {},
     "output_type": "execute_result"
    }
   ],
   "source": [
    "# Dimension Check\n",
    "x_train.shape"
   ]
  },
  {
   "cell_type": "code",
   "execution_count": 13,
   "metadata": {},
   "outputs": [
    {
     "data": {
      "text/plain": [
       "(16000,)"
      ]
     },
     "execution_count": 13,
     "metadata": {},
     "output_type": "execute_result"
    }
   ],
   "source": [
    "# Final y_train and Dimension Check\n",
    "y_train = np.array(train_df['orientation'])\n",
    "y_train.shape"
   ]
  },
  {
   "cell_type": "code",
   "execution_count": 14,
   "metadata": {},
   "outputs": [
    {
     "data": {
      "image/png": "[encoded data removed]",
      "text/plain": [
       "<Figure size 432x288 with 1 Axes>"
      ]
     },
     "metadata": {
      "needs_background": "light"
     },
     "output_type": "display_data"
    },
    {
     "name": "stdout",
     "output_type": "stream",
     "text": [
      "Orientation :  1\n"
     ]
    },
    {
     "data": {
      "image/png": "[encoded data removed]",
      "text/plain": [
       "<Figure size 432x288 with 1 Axes>"
      ]
     },
     "metadata": {
      "needs_background": "light"
     },
     "output_type": "display_data"
    },
    {
     "name": "stdout",
     "output_type": "stream",
     "text": [
      "Orientation :  1\n"
     ]
    },
    {
     "data": {
      "image/png": "[encoded data removed]",
      "text/plain": [
       "<Figure size 432x288 with 1 Axes>"
      ]
     },
     "metadata": {
      "needs_background": "light"
     },
     "output_type": "display_data"
    },
    {
     "name": "stdout",
     "output_type": "stream",
     "text": [
      "Orientation :  2\n"
     ]
    },
    {
     "data": {
      "image/png": "[encoded data removed]",
      "text/plain": [
       "<Figure size 432x288 with 1 Axes>"
      ]
     },
     "metadata": {
      "needs_background": "light"
     },
     "output_type": "display_data"
    },
    {
     "name": "stdout",
     "output_type": "stream",
     "text": [
      "Orientation :  3\n"
     ]
    },
    {
     "data": {
      "image/png": "[encoded data removed]",
      "text/plain": [
       "<Figure size 432x288 with 1 Axes>"
      ]
     },
     "metadata": {
      "needs_background": "light"
     },
     "output_type": "display_data"
    },
    {
     "name": "stdout",
     "output_type": "stream",
     "text": [
      "Orientation :  3\n"
     ]
    }
   ],
   "source": [
    "# Train Image view check\n",
    "for i in range(5):\n",
    "    plt.imshow(x_train[i])\n",
    "    plt.show()\n",
    "    print(\"Orientation : \" , y_train[i])\n",
    "\n"
   ]
  },
  {
   "cell_type": "markdown",
   "metadata": {},
   "source": [
    "#### Test"
   ]
  },
  {
   "cell_type": "code",
   "execution_count": 15,
   "metadata": {},
   "outputs": [],
   "source": [
    "# Retreving test data\n",
    "base = test_location\n",
    "# print (base)\n",
    "with os.scandir(base) as entries:\n",
    "    # print (entries)\n",
    "    for entry in entries:\n",
    "        if(entry.is_file()):\n",
    "            test['name'].append(int(str(entry.name).removesuffix('.png')))\n",
    "            image_location = base + str(entry.name)\n",
    "            # print(image_location)\n",
    "            test['data'].append(imread(image_location).tolist())"
   ]
  },
  {
   "cell_type": "code",
   "execution_count": 16,
   "metadata": {},
   "outputs": [
    {
     "data": {
      "text/plain": [
       "4000"
      ]
     },
     "execution_count": 16,
     "metadata": {},
     "output_type": "execute_result"
    }
   ],
   "source": [
    "# Length Check\n",
    "len(test['data'])"
   ]
  },
  {
   "cell_type": "code",
   "execution_count": 17,
   "metadata": {},
   "outputs": [
    {
     "data": {
      "text/html": [
       "<div>\n",
       "<style scoped>\n",
       "    .dataframe tbody tr th:only-of-type {\n",
       "        vertical-align: middle;\n",
       "    }\n",
       "\n",
       "    .dataframe tbody tr th {\n",
       "        vertical-align: top;\n",
       "    }\n",
       "\n",
       "    .dataframe thead th {\n",
       "        text-align: right;\n",
       "    }\n",
       "</style>\n",
       "<table border=\"1\" class=\"dataframe\">\n",
       "  <thead>\n",
       "    <tr style=\"text-align: right;\">\n",
       "      <th></th>\n",
       "      <th>data</th>\n",
       "    </tr>\n",
       "    <tr>\n",
       "      <th>name</th>\n",
       "      <th></th>\n",
       "    </tr>\n",
       "  </thead>\n",
       "  <tbody>\n",
       "    <tr>\n",
       "      <th>100000</th>\n",
       "      <td>[[3, 3, 3, 3, 5, 5, 5, 3, 3, 3, 3, 4, 4, 4, 2,...</td>\n",
       "    </tr>\n",
       "    <tr>\n",
       "      <th>100001</th>\n",
       "      <td>[[0, 0, 0, 0, 1, 1, 1, 2, 2, 2, 2, 0, 0, 0, 2,...</td>\n",
       "    </tr>\n",
       "    <tr>\n",
       "      <th>100010</th>\n",
       "      <td>[[0, 0, 0, 0, 0, 0, 0, 0, 0, 0, 0, 0, 0, 0, 0,...</td>\n",
       "    </tr>\n",
       "    <tr>\n",
       "      <th>100011</th>\n",
       "      <td>[[13, 13, 13, 13, 134, 134, 134, 30, 30, 30, 3...</td>\n",
       "    </tr>\n",
       "    <tr>\n",
       "      <th>100014</th>\n",
       "      <td>[[0, 0, 0, 0, 0, 0, 0, 0, 0, 0, 0, 0, 0, 0, 0,...</td>\n",
       "    </tr>\n",
       "  </tbody>\n",
       "</table>\n",
       "</div>"
      ],
      "text/plain": [
       "                                                     data\n",
       "name                                                     \n",
       "100000  [[3, 3, 3, 3, 5, 5, 5, 3, 3, 3, 3, 4, 4, 4, 2,...\n",
       "100001  [[0, 0, 0, 0, 1, 1, 1, 2, 2, 2, 2, 0, 0, 0, 2,...\n",
       "100010  [[0, 0, 0, 0, 0, 0, 0, 0, 0, 0, 0, 0, 0, 0, 0,...\n",
       "100011  [[13, 13, 13, 13, 134, 134, 134, 30, 30, 30, 3...\n",
       "100014  [[0, 0, 0, 0, 0, 0, 0, 0, 0, 0, 0, 0, 0, 0, 0,..."
      ]
     },
     "execution_count": 17,
     "metadata": {},
     "output_type": "execute_result"
    }
   ],
   "source": [
    "#  Putting the data in dataframe and sorting based on name to match testing output requirement\n",
    "test_df = pd.DataFrame(test)\n",
    "test_df = test_df.set_index('name')\n",
    "test_df.sort_values(by=['name'], inplace=True)\n",
    "test_df.head()"
   ]
  },
  {
   "cell_type": "code",
   "execution_count": 18,
   "metadata": {},
   "outputs": [],
   "source": [
    "x_test = []\n",
    "\n",
    "for i,r in test_df.iterrows():\n",
    "    x_test.append(r['data'])\n"
   ]
  },
  {
   "cell_type": "code",
   "execution_count": 19,
   "metadata": {},
   "outputs": [],
   "source": [
    "# Final Test data\n",
    "x_test = np.array(x_test)"
   ]
  },
  {
   "cell_type": "code",
   "execution_count": 20,
   "metadata": {},
   "outputs": [
    {
     "data": {
      "text/plain": [
       "(4000, 224, 224)"
      ]
     },
     "execution_count": 20,
     "metadata": {},
     "output_type": "execute_result"
    }
   ],
   "source": [
    "# Dimension Check\n",
    "x_test.shape"
   ]
  },
  {
   "cell_type": "code",
   "execution_count": 21,
   "metadata": {},
   "outputs": [],
   "source": [
    "# Make all images to have the shape (224, 224, 1)\n",
    "x_test = np.expand_dims(x_test, -1)"
   ]
  },
  {
   "cell_type": "code",
   "execution_count": 22,
   "metadata": {},
   "outputs": [
    {
     "data": {
      "text/plain": [
       "(4000, 224, 224, 1)"
      ]
     },
     "execution_count": 22,
     "metadata": {},
     "output_type": "execute_result"
    }
   ],
   "source": [
    "# Dimension Check\n",
    "x_test.shape"
   ]
  },
  {
   "cell_type": "markdown",
   "metadata": {},
   "source": [
    "#### Normalize Train and Test"
   ]
  },
  {
   "cell_type": "code",
   "execution_count": 37,
   "metadata": {},
   "outputs": [],
   "source": [
    "# Normalizing the train and test data\n",
    "x_train = tf.keras.utils.normalize(x_train, axis=1)\n",
    "x_test  = tf.keras.utils.normalize(x_test,  axis=1)"
   ]
  },
  {
   "cell_type": "markdown",
   "metadata": {},
   "source": [
    "### Fully Connected Model"
   ]
  },
  {
   "cell_type": "code",
   "execution_count": 81,
   "metadata": {},
   "outputs": [],
   "source": [
    "# Designing Model\n",
    "# HeNormal initializing because of RELU\n",
    "# Random Contrast for image augmenting\n",
    "fully_connected_model = tf.keras.models.Sequential([\n",
    "    tf.keras.layers.experimental.preprocessing.RandomContrast(factor=0.2),\n",
    "    tf.keras.layers.Flatten(),\n",
    "    tf.keras.layers.Dense(256, activation=tf.nn.relu, kernel_initializer=tf.keras.initializers.HeNormal(seed=None)),\n",
    "    tf.keras.layers.Dense(128, activation=tf.nn.relu, kernel_initializer=tf.keras.initializers.HeNormal(seed=None), kernel_regularizer=tf.keras.regularizers.L2(0.001)),\n",
    "    tf.keras.layers.Dense(128, activation=tf.nn.relu, kernel_initializer=tf.keras.initializers.HeNormal(seed=None)),\n",
    "    tf.keras.layers.Dense(4, activation=tf.nn.softmax)\n",
    "])"
   ]
  },
  {
   "cell_type": "code",
   "execution_count": 82,
   "metadata": {},
   "outputs": [],
   "source": [
    "# Compiling the Model\n",
    "fully_connected_model.compile(optimizer='adam', loss='sparse_categorical_crossentropy', metrics='accuracy')"
   ]
  },
  {
   "cell_type": "code",
   "execution_count": 83,
   "metadata": {},
   "outputs": [
    {
     "name": "stdout",
     "output_type": "stream",
     "text": [
      "Epoch 1/10\n",
      "400/400 [==============================] - 32s 78ms/step - loss: 0.7485 - accuracy: 0.7579 - val_loss: 0.3808 - val_accuracy: 0.8708\n",
      "Epoch 2/10\n",
      "400/400 [==============================] - 21s 51ms/step - loss: 0.3955 - accuracy: 0.8703 - val_loss: 0.3483 - val_accuracy: 0.8895\n",
      "Epoch 3/10\n",
      "400/400 [==============================] - 18s 45ms/step - loss: 0.3058 - accuracy: 0.9015 - val_loss: 0.4064 - val_accuracy: 0.8388\n",
      "Epoch 4/10\n",
      "400/400 [==============================] - 18s 45ms/step - loss: 0.2828 - accuracy: 0.9068 - val_loss: 0.2062 - val_accuracy: 0.9492\n",
      "Epoch 5/10\n",
      "400/400 [==============================] - 18s 45ms/step - loss: 0.2632 - accuracy: 0.9149 - val_loss: 0.2147 - val_accuracy: 0.9423\n",
      "Epoch 6/10\n",
      "400/400 [==============================] - 18s 45ms/step - loss: 0.2099 - accuracy: 0.9337 - val_loss: 0.3745 - val_accuracy: 0.8873\n",
      "Epoch 7/10\n",
      "400/400 [==============================] - 18s 45ms/step - loss: 0.2140 - accuracy: 0.9284 - val_loss: 0.1845 - val_accuracy: 0.9438\n",
      "Epoch 8/10\n",
      "400/400 [==============================] - 18s 45ms/step - loss: 0.1936 - accuracy: 0.9363 - val_loss: 0.1588 - val_accuracy: 0.9495\n",
      "Epoch 9/10\n",
      "400/400 [==============================] - 18s 45ms/step - loss: 0.1965 - accuracy: 0.9327 - val_loss: 0.1603 - val_accuracy: 0.9495\n",
      "Epoch 10/10\n",
      "400/400 [==============================] - 18s 45ms/step - loss: 0.1740 - accuracy: 0.9414 - val_loss: 0.1461 - val_accuracy: 0.9622\n"
     ]
    },
    {
     "data": {
      "text/plain": [
       "<keras.callbacks.History at 0x18aae31dae0>"
      ]
     },
     "execution_count": 83,
     "metadata": {},
     "output_type": "execute_result"
    }
   ],
   "source": [
    "# Training the Model, only 10 epochs because after 10 epochs the the val_loss didn't have a drastic decrease and was only fluctuating\n",
    "# So in order to avoid overfitting no more than 10 epochs\n",
    "fully_connected_model.fit(x_train, y_train, epochs=10, validation_split=0.25, batch_size=30)"
   ]
  },
  {
   "cell_type": "code",
   "execution_count": 84,
   "metadata": {},
   "outputs": [
    {
     "name": "stdout",
     "output_type": "stream",
     "text": [
      "Model: \"sequential_13\"\n",
      "_________________________________________________________________\n",
      " Layer (type)                Output Shape              Param #   \n",
      "=================================================================\n",
      " random_contrast_2 (RandomCo  (None, 224, 224, 1)      0         \n",
      " ntrast)                                                         \n",
      "                                                                 \n",
      " flatten_13 (Flatten)        (None, 50176)             0         \n",
      "                                                                 \n",
      " dense_48 (Dense)            (None, 256)               12845312  \n",
      "                                                                 \n",
      " dense_49 (Dense)            (None, 128)               32896     \n",
      "                                                                 \n",
      " dense_50 (Dense)            (None, 128)               16512     \n",
      "                                                                 \n",
      " dense_51 (Dense)            (None, 4)                 516       \n",
      "                                                                 \n",
      "=================================================================\n",
      "Total params: 12,895,236\n",
      "Trainable params: 12,895,236\n",
      "Non-trainable params: 0\n",
      "_________________________________________________________________\n"
     ]
    }
   ],
   "source": [
    "# Model Summary\n",
    "fully_connected_model.summary()"
   ]
  },
  {
   "cell_type": "code",
   "execution_count": 85,
   "metadata": {},
   "outputs": [
    {
     "name": "stdout",
     "output_type": "stream",
     "text": [
      "INFO:tensorflow:Assets written to: saved_fully_connected.model\\assets\n"
     ]
    }
   ],
   "source": [
    "# Saving model\n",
    "fully_connected_model.save('saved_fully_connected.model')"
   ]
  },
  {
   "cell_type": "markdown",
   "metadata": {},
   "source": [
    "### Convolutional Neural Network Model"
   ]
  },
  {
   "cell_type": "code",
   "execution_count": 77,
   "metadata": {},
   "outputs": [],
   "source": [
    "# Designing Model\n",
    "# 2 Convolutional Layers followed by max pool layers\n",
    "# HeNoraml initializer for RELU\n",
    "# No Augmentation because of high Accuracy\n",
    "# Only 5 epochs to avoid overfitting\n",
    "cnn_model = tf.keras.models.Sequential([\n",
    "        keras.Input(shape=(224,224,1)),\n",
    "        layers.Conv2D(10, padding='same', strides=(1,1), kernel_size=(3, 3), activation=\"relu\", kernel_initializer=tf.keras.initializers.HeNormal(seed=None)),\n",
    "        layers.MaxPooling2D(pool_size=(2, 2)),\n",
    "        layers.Conv2D(10, padding='same', strides=(1,1), kernel_size=(3, 3), activation=\"relu\", kernel_initializer=tf.keras.initializers.HeNormal(seed=None)),\n",
    "        layers.MaxPooling2D(pool_size=(2, 2)),\n",
    "        layers.Flatten(),\n",
    "        layers.Dense(128, activation=\"relu\", kernel_initializer=tf.keras.initializers.HeNormal(seed=None)),\n",
    "        layers.Dense(128, activation=\"relu\", kernel_initializer=tf.keras.initializers.HeNormal(seed=None)),\n",
    "        layers.Dense(4, activation=\"softmax\"),\n",
    "])\n"
   ]
  },
  {
   "cell_type": "code",
   "execution_count": 78,
   "metadata": {},
   "outputs": [],
   "source": [
    "# Model Compile\n",
    "cnn_model.compile(optimizer='adam', loss='sparse_categorical_crossentropy', metrics='accuracy')"
   ]
  },
  {
   "cell_type": "code",
   "execution_count": 79,
   "metadata": {},
   "outputs": [
    {
     "name": "stdout",
     "output_type": "stream",
     "text": [
      "Epoch 1/5\n",
      "400/400 [==============================] - 88s 220ms/step - loss: 0.1871 - accuracy: 0.9314 - val_loss: 0.0304 - val_accuracy: 0.9945\n",
      "Epoch 2/5\n",
      "400/400 [==============================] - 81s 203ms/step - loss: 0.0151 - accuracy: 0.9958 - val_loss: 0.0170 - val_accuracy: 0.9955\n",
      "Epoch 3/5\n",
      "400/400 [==============================] - 80s 201ms/step - loss: 0.0094 - accuracy: 0.9965 - val_loss: 0.0267 - val_accuracy: 0.9950\n",
      "Epoch 4/5\n",
      "400/400 [==============================] - 80s 201ms/step - loss: 0.0081 - accuracy: 0.9973 - val_loss: 0.0106 - val_accuracy: 0.9977\n",
      "Epoch 5/5\n",
      "400/400 [==============================] - 80s 200ms/step - loss: 0.0044 - accuracy: 0.9986 - val_loss: 0.0115 - val_accuracy: 0.9977\n"
     ]
    },
    {
     "data": {
      "text/plain": [
       "<keras.callbacks.History at 0x18a8d3ba4a0>"
      ]
     },
     "execution_count": 79,
     "metadata": {},
     "output_type": "execute_result"
    }
   ],
   "source": [
    "# Model Train\n",
    "cnn_model.fit(x_train, y_train, epochs=5, validation_split=0.25, batch_size=30)"
   ]
  },
  {
   "cell_type": "code",
   "execution_count": 80,
   "metadata": {},
   "outputs": [
    {
     "name": "stdout",
     "output_type": "stream",
     "text": [
      "Model: \"sequential_12\"\n",
      "_________________________________________________________________\n",
      " Layer (type)                Output Shape              Param #   \n",
      "=================================================================\n",
      " conv2d_4 (Conv2D)           (None, 224, 224, 10)      100       \n",
      "                                                                 \n",
      " max_pooling2d_3 (MaxPooling  (None, 112, 112, 10)     0         \n",
      " 2D)                                                             \n",
      "                                                                 \n",
      " conv2d_5 (Conv2D)           (None, 112, 112, 10)      910       \n",
      "                                                                 \n",
      " max_pooling2d_4 (MaxPooling  (None, 56, 56, 10)       0         \n",
      " 2D)                                                             \n",
      "                                                                 \n",
      " flatten_12 (Flatten)        (None, 31360)             0         \n",
      "                                                                 \n",
      " dense_45 (Dense)            (None, 128)               4014208   \n",
      "                                                                 \n",
      " dense_46 (Dense)            (None, 128)               16512     \n",
      "                                                                 \n",
      " dense_47 (Dense)            (None, 4)                 516       \n",
      "                                                                 \n",
      "=================================================================\n",
      "Total params: 4,032,246\n",
      "Trainable params: 4,032,246\n",
      "Non-trainable params: 0\n",
      "_________________________________________________________________\n"
     ]
    }
   ],
   "source": [
    "cnn_model.summary()"
   ]
  },
  {
   "cell_type": "code",
   "execution_count": 86,
   "metadata": {},
   "outputs": [
    {
     "name": "stdout",
     "output_type": "stream",
     "text": [
      "INFO:tensorflow:Assets written to: cnn.model\\assets\n"
     ]
    }
   ],
   "source": [
    "#Saving Model\n",
    "cnn_model.save('cnn.model')"
   ]
  },
  {
   "cell_type": "markdown",
   "metadata": {},
   "source": [
    "### Predictions"
   ]
  },
  {
   "cell_type": "code",
   "execution_count": null,
   "metadata": {},
   "outputs": [],
   "source": [
    "# # Loading Models\n",
    "# fcn_model_loaded = tf.keras.models.load_model('saved_fully_connected_model.model')\n",
    "# cnn_model_loaded = tf.keras.models.load_model('cnn.model')\n"
   ]
  },
  {
   "cell_type": "markdown",
   "metadata": {},
   "source": [
    "#### Fully Connected Model"
   ]
  },
  {
   "cell_type": "code",
   "execution_count": 114,
   "metadata": {},
   "outputs": [],
   "source": [
    "# Getting Prediction for fully connected Model\n",
    "fcn_prediction = fully_connected_model.predict(x_test)"
   ]
  },
  {
   "cell_type": "code",
   "execution_count": 115,
   "metadata": {},
   "outputs": [],
   "source": [
    "# Getting Orientaion\n",
    "fcn_pred = []\n",
    "for i in range(len(fcn_prediction)):\n",
    "    fcn_pred.append(np.argmax(fcn_prediction[i]))"
   ]
  },
  {
   "cell_type": "markdown",
   "metadata": {},
   "source": [
    "#### Convolutional Neural Network"
   ]
  },
  {
   "cell_type": "code",
   "execution_count": 116,
   "metadata": {},
   "outputs": [],
   "source": [
    "# Getting Prediction for convolutional model\n",
    "cnn_prediction = cnn_model.predict(x_test)"
   ]
  },
  {
   "cell_type": "code",
   "execution_count": 117,
   "metadata": {},
   "outputs": [],
   "source": [
    "# Getting Orientaion\n",
    "cnn_pred = []\n",
    "for i in range(len(cnn_prediction)):\n",
    "    cnn_pred.append(np.argmax(cnn_prediction[i]))"
   ]
  },
  {
   "cell_type": "code",
   "execution_count": 118,
   "metadata": {},
   "outputs": [],
   "source": [
    "# Open both files\n",
    "with open(\"../../P2/temp.csv\") as f_in, open(\"../../P2/Assignment2_4KPredictions_Kishore_KandasamyBalakrishnan.csv\", 'w') as f_out:\n",
    "        # Transform the rest of the lines\n",
    "    i=0\n",
    "    # Writing in the format of Name,Actual Orientation, FullyConnectedModel predicted orientaion, Convolutional Model predicted orientation\n",
    "    for line in f_in:\n",
    "        f_out.write(line.removesuffix('\\n') + ',' + str(fcn_pred[i]) + ',' + str(cnn_pred[i]) + '\\n')\n",
    "        i = i + 1"
   ]
  },
  {
   "cell_type": "markdown",
   "metadata": {},
   "source": [
    "### Summary"
   ]
  },
  {
   "cell_type": "markdown",
   "metadata": {},
   "source": [
    "<p>Convolutional Neural Network model provided a better accuracy with lesser parameters and lower epochs(lesser possibility of overfitting). Though the Dense FCN model has more parameters, the training times are similar. More epochs in the FCN model only led to overfitting and no significant increase in accuracy</p>"
   ]
  }
 ],
 "metadata": {
  "interpreter": {
   "hash": "b295c30d0c067a9418a4b067b0cfef7f3b1fb611fd6e026430322d33d3e99eef"
  },
  "kernelspec": {
   "display_name": "Python 3.10.2 ('deep_learning_venv': venv)",
   "language": "python",
   "name": "python3"
  },
  "language_info": {
   "codemirror_mode": {
    "name": "ipython",
    "version": 3
   },
   "file_extension": ".py",
   "mimetype": "text/x-python",
   "name": "python",
   "nbconvert_exporter": "python",
   "pygments_lexer": "ipython3",
   "version": "3.10.4"
  },
  "orig_nbformat": 4
 },
 "nbformat": 4,
 "nbformat_minor": 2
}
